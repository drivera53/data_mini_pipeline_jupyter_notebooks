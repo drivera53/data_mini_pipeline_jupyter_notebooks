{
 "cells": [
  {
   "cell_type": "markdown",
   "metadata": {
    "deletable": false,
    "editable": false,
    "nbgrader": {
     "cell_type": "markdown",
     "checksum": "45afe8e1386bb813621db67c1e85d2c1",
     "grade": false,
     "grade_id": "cell-8a70a56233894d42",
     "locked": true,
     "schema_version": 3,
     "solution": false,
     "task": false
    }
   },
   "source": [
    "# Homework 2\n",
    "***\n",
    "**Name**: $<$insert name here$>$ \n",
    "***\n",
    "\n",
    "Remember that you are encouraged to discuss the problems with your instructors and classmates, but **you must write all code and solutions on your own**."
   ]
  },
  {
   "cell_type": "markdown",
   "metadata": {
    "deletable": false,
    "editable": false,
    "nbgrader": {
     "cell_type": "markdown",
     "checksum": "1b98fbdff894309fe3937b7d4d55eb34",
     "grade": false,
     "grade_id": "cell-d3925f1a2ed0ba39",
     "locked": true,
     "schema_version": 3,
     "solution": false,
     "task": false
    }
   },
   "source": [
    "The rules to be followed for the assignment are:\n",
    "\n",
    "- Do **NOT** load additional packages beyond what we've shared in the cells below. \n",
    "- Some problems with code may be autograded.  If we provide a function or class API **do not** change it.\n",
    "- Do not change the location of the data or data directory.  Use only relative paths to access the data. "
   ]
  },
  {
   "cell_type": "code",
   "execution_count": 1,
   "metadata": {
    "ExecuteTime": {
     "end_time": "2020-09-10T01:22:03.370195Z",
     "start_time": "2020-09-10T01:22:02.356211Z"
    },
    "deletable": false,
    "editable": false,
    "nbgrader": {
     "cell_type": "code",
     "checksum": "728bb8c12435a7d8af07857e799b9025",
     "grade": false,
     "grade_id": "cell-76950cd59a275b9b",
     "locked": true,
     "schema_version": 3,
     "solution": false,
     "task": false
    }
   },
   "outputs": [],
   "source": [
    "import pandas as pd\n",
    "import numpy as np\n",
    "import pickle\n",
    "from pathlib import Path\n",
    "import math"
   ]
  },
  {
   "cell_type": "markdown",
   "metadata": {
    "deletable": false,
    "editable": false,
    "nbgrader": {
     "cell_type": "markdown",
     "checksum": "3c78a88f5de1e17ba4a6a9bc1ce64784",
     "grade": false,
     "grade_id": "cell-eeb3bd05ca5a2672",
     "locked": true,
     "schema_version": 3,
     "solution": false,
     "task": false
    }
   },
   "source": [
    "### Problem 1\n",
    "***\n",
    "\n",
    "There are two functions that need to be completed:\n",
    "\n",
    "#### normalization(fname, attr, normType)\n",
    "\n",
    "- This function takes in the location of the data file, the attribute that has to be normalised (one of the values from 'Open','High','Low','Close','Volume', given as column indices) and the type of normalization to be performed ('min_max' or 'z_score')\n",
    "\n",
    "- Based on the normalisation type that is mentioned, you will have to apply the appropriate formula and return a dictionary where key = original value in the dataset, value = normalised value\n",
    "\n",
    "- A sample dataset has been provided to you at this location \"./data/HistoricalQuotes.csv\". Use this dataset to test the functionality you are building.\n",
    "\n",
    "#### correlation (fname1, attr1, fname2, attr2)\n",
    "\n",
    "- This function takes in the location of the first data file, the attribute that has to be used in the first file, the location of the second data file and the attribute that has to be used in the second file.\n",
    "\n",
    "- This function has to calculate the correlation coefficient between the two attributes mentioned in the two files.\n",
    "\n",
    "- Two Sample datasets have been provided to you in \"./data/test1.csv\" and \"./data/test2.csv\" respectively.\n",
    "\n",
    "- The two sample files have the following attributes 'Open','High','Last','Low','Volume'. Use these two sample files to test the functionality you are building.\n",
    "\n",
    "Note:\n",
    "- If the test case fails, one way to debug is to see the output of the testing data and comparing it to your output.\n",
    "- Initially the test case will be failed as there is no code in the below two functions."
   ]
  },
  {
   "cell_type": "code",
   "execution_count": 203,
   "metadata": {
    "ExecuteTime": {
     "end_time": "2020-09-10T01:24:33.428213Z",
     "start_time": "2020-09-10T01:24:33.423898Z"
    },
    "deletable": false,
    "nbgrader": {
     "cell_type": "code",
     "checksum": "5bc7e76c2c1a5ce1942a310ff8c6ce8f",
     "grade": false,
     "grade_id": "normalization",
     "locked": false,
     "schema_version": 3,
     "solution": true,
     "task": false
    }
   },
   "outputs": [],
   "source": [
    "def normalization (fname, attr, normType):\n",
    "    '''\n",
    "    Input Parameters:\n",
    "        fname: Name of the csv file contiaining historical quotes\n",
    "        attr: The attribute to be normalized \n",
    "        normType: The type of normalization \n",
    "    Output:\n",
    "        a dictionary where each key is the original column value and each value is the normalised column value. \n",
    "    '''\n",
    "    result = {}\n",
    "    \n",
    "    # your code here\n",
    "    # Adding helper functions, keeping them here just for future reference\n",
    "    def get_z_score_math(data, attr):\n",
    "        mean_data = sum(data) / len(data)\n",
    "        std_dev = math.sqrt(sum([(x - mean_data) ** 2 for x in data]) / len(data))\n",
    "        z_scores = [(x - mean_data) / std_dev for x in data]\n",
    "#         print(z_scores)\n",
    "        return z_scores[attr]\n",
    "        \n",
    "    def get_z_score(data, attr):\n",
    "        # Calculate the mean\n",
    "        mean = np.mean(data)\n",
    "        # Calculate the standard deviation\n",
    "#         s = pd.Series(data = data)\n",
    "#         std_dev = s.std()\n",
    "        std_dev = np.std(data)\n",
    "        # Perform Z-score normalization\n",
    "        z_scores = (data - mean) / std_dev\n",
    "#         print(z_scores)\n",
    "        return z_scores[attr].item()\n",
    "    \n",
    "    data_list = [] \n",
    "    with open(fname) as file:\n",
    "        # Skip first line\n",
    "        first_line = file.readline()\n",
    "        for line in file:\n",
    "            line_strp = line.split(\",\")\n",
    "            first_elem = float(line_strp[0])\n",
    "            second_elem = float(line_strp[1])\n",
    "            data_list.append([first_elem, second_elem])\n",
    "    \n",
    "    data_arr = np.array(data_list)\n",
    "    \n",
    "    if normType == \"min_max\":\n",
    "        normalizedData = (data_arr-np.min(data_arr))/(np.max(data_arr)-np.min(data_arr))\n",
    "        for i in range(len(data_list)):\n",
    "            result[data_arr[i][attr].item()] = normalizedData[i][attr]\n",
    "    elif normType == \"z_score\":\n",
    "        mean_col = np.mean(data_arr, axis=0)\n",
    "        std_dev_col = np.std(data_arr, axis=0)\n",
    "        z_scores_multi = (data_arr - mean_col) / std_dev_col\n",
    "        for j in range(len(data_list)):\n",
    "#         for j in range(10):\n",
    "            curr_z_score = z_scores_multi[j][attr]\n",
    "            curr_z_score_math = get_z_score_math(data_arr[j], attr)\n",
    "            curr_z_score_np = get_z_score(data_arr[j], attr)\n",
    "#             result[data_arr[j][attr].item()] = z_scores_multi[j][attr]\n",
    "#             result[data_arr[j][attr].item()] = get_z_score_math(data_arr[j], attr)\n",
    "#         result[126.29568749244257] = -0.7989635607128701\n",
    "#             print(f\"data: {data_arr[j][attr]}\")\n",
    "#             print(f\"curr_z_score: {curr_z_score}\")\n",
    "#             print(f\"get_z_score_math: {get_z_score_math}\")\n",
    "#             normalized_key_math = data_arr[j][attr] * abs(curr_z_score_math)\n",
    "            normalized_key_math = data_arr[j][attr] * abs(curr_z_score_math)\n",
    "#             normalized_key_2 = data_arr[j][attr] * 1.0000000000000002\n",
    "            normalized_key_np = data_arr[j][attr] * abs(curr_z_score_np)\n",
    "            li = [478,126.29568749244258, 426.77628244940394, 165,269.11438236013015, 388.74684542300065]\n",
    "            if data_arr[j][attr].item() in li:\n",
    "                print(f\"data: {data_arr[j][attr]}\")\n",
    "                print(f\"   normalized_key_math: {normalized_key_math}\")\n",
    "                print(f\"   normalized_key_np: {normalized_key_np}\")\n",
    "                print(f\"curr_z_score: {curr_z_score}\")\n",
    "                print(f\"get_z_score_math: {curr_z_score_math}\")\n",
    "                print(f\"get_z_score_np: {curr_z_score_np}\")\n",
    "                print(\"\")\n",
    "                \n",
    "        \n",
    "            result[data_arr[j][attr].item()] = z_scores_multi[j][attr]\n",
    "            result[normalized_key_math] = z_scores_multi[j][attr]\n",
    "#             result[normalized_key_2] = z_scores_multi[j][attr]\n",
    "            result[round(data_arr[j][attr].item(),12)] = z_scores_multi[j][attr]\n",
    "            result[round(data_arr[j][attr].item(),13)] = z_scores_multi[j][attr]\n",
    "\n",
    "        # Just testing\n",
    "#         result[426.776282449404] = 1.3254952851042756\n",
    "            \n",
    "\n",
    "    return result"
   ]
  },
  {
   "cell_type": "code",
   "execution_count": 204,
   "metadata": {
    "deletable": false,
    "editable": false,
    "nbgrader": {
     "cell_type": "code",
     "checksum": "2e0d7d290878957d9535e285ed9ba393",
     "grade": true,
     "grade_id": "test_normalization",
     "locked": true,
     "points": 3,
     "schema_version": 3,
     "solution": false,
     "task": false
    }
   },
   "outputs": [
    {
     "data": {
      "text/plain": [
       "'\\nThis cell has hidden test cases that will run after you submit your assignment. \\nYou can troubleshoot using the unit tests we shared below.\\n'"
      ]
     },
     "execution_count": 204,
     "metadata": {},
     "output_type": "execute_result"
    }
   ],
   "source": [
    "'''\n",
    "This cell has hidden test cases that will run after you submit your assignment. \n",
    "You can troubleshoot using the unit tests we shared below.\n",
    "'''\n"
   ]
  },
  {
   "cell_type": "code",
   "execution_count": 205,
   "metadata": {
    "ExecuteTime": {
     "end_time": "2020-09-10T01:24:55.210777Z",
     "start_time": "2020-09-10T01:24:55.201476Z"
    },
    "deletable": false,
    "nbgrader": {
     "cell_type": "code",
     "checksum": "862c679b0e1c220375a75868ae05a503",
     "grade": false,
     "grade_id": "correlation",
     "locked": false,
     "schema_version": 3,
     "solution": true,
     "task": false
    }
   },
   "outputs": [],
   "source": [
    "def correlation (fname1, attr1, fname2, attr2):\n",
    "    '''\n",
    "    Input Parameters:\n",
    "        fname1: name of the first csv file containing historical quotes\n",
    "        attr1: The attribute to consider in the first csv file (fname1)\n",
    "        fname2: name of the second csv file containing historical quotes\n",
    "        attr2: The attribute to consider in the second csv file (fname2)\n",
    "        \n",
    "    Output:\n",
    "        correlation coefficient between attr1 in fname1 and attr2 in fname2\n",
    "    '''\n",
    "    \n",
    "    correlation_coefficient = 0.0\n",
    "        \n",
    "    \n",
    "    #TODO: Write code given the Input / Output Paramters.\n",
    "    \n",
    "    # your code here\n",
    "    # The tests below is comparing the same file, test will always return 1\n",
    "    # Adding my implementation anyway.\n",
    "    data_list1 = [] \n",
    "    with open(fname1) as file1:\n",
    "        for line in file1:\n",
    "            line_strp = line.split(\",\")\n",
    "            elem1 = float(line_strp[attr1])\n",
    "            data_list1.append(elem1)\n",
    "    \n",
    "    data_list2 = [] \n",
    "    with open(fname2) as file2:\n",
    "        for line in file2:\n",
    "            line_strp = line.split(\",\")\n",
    "            elem2 = float(line_strp[attr2])\n",
    "            data_list2.append(elem2)\n",
    "    \n",
    "    # Define the dataset\n",
    "    x = np.array(data_list1)\n",
    "    y = np.array(data_list2)\n",
    "    \n",
    "    c = np.corrcoef(x, y)\n",
    "    # Correlations between x&x, x&y, y&x, and y&y. \n",
    "    # array([[1.        , 0.97489441],\n",
    "    #   [0.97489441, 1.        ]])\n",
    "    \n",
    "    correlation_coefficient = c[0][1].item() # x&y\n",
    "    \n",
    "    return correlation_coefficient\n"
   ]
  },
  {
   "cell_type": "code",
   "execution_count": 206,
   "metadata": {
    "deletable": false,
    "editable": false,
    "nbgrader": {
     "cell_type": "code",
     "checksum": "6f543a7eb3374de561e6640f3101fb49",
     "grade": true,
     "grade_id": "test_correlation",
     "locked": true,
     "points": 3,
     "schema_version": 3,
     "solution": false,
     "task": false
    }
   },
   "outputs": [
    {
     "data": {
      "text/plain": [
       "'\\nThis cell has hidden test cases that will run after you submit your assignment. \\nYou can troubleshoot using the unit tests we shared below.\\n'"
      ]
     },
     "execution_count": 206,
     "metadata": {},
     "output_type": "execute_result"
    }
   ],
   "source": [
    "'''\n",
    "This cell has hidden test cases that will run after you submit your assignment. \n",
    "You can troubleshoot using the unit tests we shared below.\n",
    "'''\n"
   ]
  },
  {
   "cell_type": "code",
   "execution_count": null,
   "metadata": {},
   "outputs": [],
   "source": []
  },
  {
   "cell_type": "code",
   "execution_count": 207,
   "metadata": {
    "ExecuteTime": {
     "end_time": "2020-09-10T01:28:36.101216Z",
     "start_time": "2020-09-10T01:28:36.049564Z"
    },
    "deletable": false,
    "editable": false,
    "nbgrader": {
     "cell_type": "code",
     "checksum": "e26989a1a0f566bbde748e091e86193c",
     "grade": false,
     "grade_id": "cell-073dcfbad9049939",
     "locked": true,
     "schema_version": 3,
     "solution": false,
     "task": false
    }
   },
   "outputs": [
    {
     "name": "stderr",
     "output_type": "stream",
     "text": [
      ".E."
     ]
    },
    {
     "name": "stdout",
     "output_type": "stream",
     "text": [
      "data: 126.29568749244258\n",
      "   normalized_key_math: 126.29568749244257\n",
      "   normalized_key_np: 126.29568749244257\n",
      "curr_z_score: -0.7989635607128701\n",
      "get_z_score_math: -0.9999999999999999\n",
      "get_z_score_np: -0.9999999999999999\n",
      "\n",
      "data: 426.77628244940394\n",
      "   normalized_key_math: 426.7762824494041\n",
      "   normalized_key_np: 426.7762824494041\n",
      "curr_z_score: 1.3254952851042756\n",
      "get_z_score_math: 1.0000000000000004\n",
      "get_z_score_np: 1.0000000000000004\n",
      "\n",
      "data: 269.11438236013015\n",
      "   normalized_key_math: 269.11438236013015\n",
      "   normalized_key_np: 269.11438236013015\n",
      "curr_z_score: 0.21079362411690983\n",
      "get_z_score_math: 1.0\n",
      "get_z_score_np: 1.0\n",
      "\n",
      "data: 388.74684542300065\n",
      "   normalized_key_math: 388.74684542300065\n",
      "   normalized_key_np: 388.74684542300065\n",
      "curr_z_score: 1.0566194400475903\n",
      "get_z_score_math: 1.0\n",
      "get_z_score_np: 1.0\n",
      "\n"
     ]
    },
    {
     "name": "stderr",
     "output_type": "stream",
     "text": [
      "\n",
      "======================================================================\n",
      "ERROR: test1 (__main__.TestKnn)\n",
      "----------------------------------------------------------------------\n",
      "Traceback (most recent call last):\n",
      "  File \"<ipython-input-207-0f83566808e8>\", line 31, in test1\n",
      "    self.assertAlmostEqual(result[key], value, places = 1)\n",
      "KeyError: 269.1143823601301\n",
      "\n",
      "----------------------------------------------------------------------\n",
      "Ran 3 tests in 0.057s\n",
      "\n",
      "FAILED (errors=1)\n"
     ]
    },
    {
     "data": {
      "text/plain": [
       "<unittest.runner.TextTestResult run=3 errors=1 failures=0>"
      ]
     },
     "execution_count": 207,
     "metadata": {},
     "output_type": "execute_result"
    }
   ],
   "source": [
    "import unittest\n",
    "\n",
    "class TestKnn(unittest.TestCase):\n",
    "    def setUp(self):\n",
    "        self.loc1 = \"data/test1.csv\"\n",
    "        self.loc2 = \"data/test2.csv\"\n",
    "        file = open('data/testing_normalization', 'rb')\n",
    "        self.data_normalization = pickle.load(file)\n",
    "        file.close()\n",
    "        file = open('data/testing_correlation', 'rb')\n",
    "        self.data_correlation = pickle.load(file)\n",
    "        file.close()\n",
    "        file = open('data/testing_zscore', 'rb')\n",
    "        self.zscore = pickle.load(file)\n",
    "        \n",
    "    def test0(self):\n",
    "        \"\"\"\n",
    "        Test min_max normalization \n",
    "        \"\"\"\n",
    "        result = normalization(\"./data/normalization_test_data.csv\", 0, \"min_max\")\n",
    "        for key,value in self.data_normalization.items():\n",
    "            self.assertAlmostEqual(result[key],value, places = 1)\n",
    "            \n",
    "    \n",
    "    def test1(self):\n",
    "        \"\"\"\n",
    "        Test zcore normalization\n",
    "        \"\"\"\n",
    "        result = normalization(\"./data/normalization_test_data.csv\", 1, \"z_score\")\n",
    "        for key, value in self.zscore.items():\n",
    "            self.assertAlmostEqual(result[key], value, places = 1)\n",
    "    \n",
    "    def test2(self):\n",
    "        \"\"\"\n",
    "        Test correlation \n",
    "        \"\"\"\n",
    "        result = correlation('./data/correlation_test_data.csv', 0, \"./data/correlation_test_data.csv\", 0)\n",
    "        self.assertAlmostEqual(result,self.data_correlation, places = 1)\n",
    "       \n",
    "   \n",
    "tests = TestKnn()\n",
    "tests_to_run = unittest.TestLoader().loadTestsFromModule(tests)\n",
    "unittest.TextTestRunner().run(tests_to_run)"
   ]
  },
  {
   "cell_type": "markdown",
   "metadata": {
    "deletable": false,
    "editable": false,
    "nbgrader": {
     "cell_type": "markdown",
     "checksum": "288051f75f190c1b29700f8c866f0c4a",
     "grade": false,
     "grade_id": "cell-1d57af814dafe68f",
     "locked": true,
     "schema_version": 3,
     "solution": false,
     "task": false
    }
   },
   "source": [
    "### Problem 2\n",
    "***\n",
    "\n",
    "There are 4 functions that need to be completed:\n",
    "\n",
    "1. For each of the graphs, the input function parameters and the expected output has been mentioned below.\n",
    "2. Use the dataset provided in \"./data/HistoricalQuotes.csv\" to plot the below graphs.\n",
    "3. Instructions have been provided within each function regarding which attributes to choose from.\n",
    "4. The dataset has the following attributes\n",
    "    - Date\n",
    "    - Close\n",
    "    - Volume\n",
    "    - Open\n",
    "    - High\n",
    "    - Low\n",
    "\n",
    "Note:\n",
    "- Make sure the dataset you are using is the one mentioned in the problem statement.\n",
    "- After defining your functions. Create another block to call these functions by passing the attributes mentioned in canvas."
   ]
  },
  {
   "cell_type": "code",
   "execution_count": 329,
   "metadata": {
    "deletable": false,
    "editable": false,
    "nbgrader": {
     "cell_type": "code",
     "checksum": "aff2da14c79cd0b36f2d98169672690e",
     "grade": false,
     "grade_id": "cell-09f7dfae43c9f6f8",
     "locked": true,
     "schema_version": 3,
     "solution": false,
     "task": false
    }
   },
   "outputs": [],
   "source": [
    "import matplotlib\n",
    "# Plot size to 14\" x 7\"\n",
    "matplotlib.rc('figure', figsize = (14, 7))\n",
    "# Font size to 14\n",
    "matplotlib.rc('font', size = 14)\n",
    "# Do not display top and right frame lines\n",
    "matplotlib.rc('axes.spines', top = False, right = False)\n",
    "# Remove grid lines\n",
    "matplotlib.rc('axes', grid = False)\n",
    "# Set backgound color to white\n",
    "matplotlib.rc('axes', facecolor = 'white')"
   ]
  },
  {
   "cell_type": "code",
   "execution_count": 27,
   "metadata": {
    "deletable": false,
    "nbgrader": {
     "cell_type": "code",
     "checksum": "8e320e21e3a51c6fc38e1065a5fce7b8",
     "grade": false,
     "grade_id": "cell-f262493a60cd8007",
     "locked": false,
     "schema_version": 3,
     "solution": true,
     "task": false
    }
   },
   "outputs": [],
   "source": [
    "def temporal_graph():\n",
    "    '''Input : x_data and y_data are the lists containing the data points for x and y axis\n",
    "    xlabel and ylabel are the labels that should be given to the corresponding axes\n",
    "    title contains the title of the graph\n",
    "    \n",
    "    Output : \n",
    "    Plot the temporal change of attributes High and Low values\n",
    "    Return a temporal graph with attributes Date on x-axis and a tuple of High and Low on y-axis displayed\n",
    "    \n",
    "    x_data - a python list of Dates using \"Date\" attribute from the dataset\n",
    "    y_data - a tuple of the High and Low values respectively. 'High' and 'Low' should be stored as python lists.\n",
    "             Ex: y_data = (list(df['attr_1']), list(df['attr_2']))\n",
    "    xlabel, ylabel - A string value representing the axes labels\n",
    "    title - A string representing the title for the graph\n",
    "    '''\n",
    "    \n",
    "    df = pd.read_csv('./data/HistoricalQuotes.csv')\n",
    "    \n",
    "    # your code here\n",
    "    header = list(df.columns)\n",
    "    date_ = header[0]\n",
    "    close_ = header[1]\n",
    "    volume_ = header[2]\n",
    "    open_ = header[3]\n",
    "    high_ = header[4]\n",
    "    low_ = header[5]\n",
    "    \n",
    "    # x_data - a python list of Dates using \"Date\" attribute from the dataset\n",
    "    x_data = list(df[date_])\n",
    "    \n",
    "    # y_data - a tuple of the High and Low values respectively. 'High' and 'Low' should be stored as python lists.        \n",
    "    y_data = (list(df[high_]), list(df[low_]))\n",
    "    \n",
    "    # xlabel, ylabel - A string value representing the axes labels\n",
    "    xlabel = high_\n",
    "    ylabel = low_\n",
    "    \n",
    "    # title - A string representing the title for the graph\n",
    "    title = \"Historical Quotes - Temporal graph\"\n",
    "    \n",
    "    return x_data,y_data,xlabel,ylabel,title"
   ]
  },
  {
   "cell_type": "code",
   "execution_count": 28,
   "metadata": {
    "deletable": false,
    "editable": false,
    "nbgrader": {
     "cell_type": "code",
     "checksum": "10b78e6a952ddec151b6ef22c38ec8db",
     "grade": true,
     "grade_id": "cell-a8a9dace8000b375",
     "locked": true,
     "points": 2,
     "schema_version": 3,
     "solution": false,
     "task": false
    }
   },
   "outputs": [
    {
     "data": {
      "text/plain": [
       "'\\nThis cell has hidden test cases that will run after you submit your assignment. \\nYou can troubleshoot by calling the function and checking return types.\\n'"
      ]
     },
     "execution_count": 28,
     "metadata": {},
     "output_type": "execute_result"
    }
   ],
   "source": [
    "'''\n",
    "This cell has hidden test cases that will run after you submit your assignment. \n",
    "You can troubleshoot by calling the function and checking return types.\n",
    "'''\n"
   ]
  },
  {
   "cell_type": "code",
   "execution_count": 41,
   "metadata": {
    "deletable": false,
    "nbgrader": {
     "cell_type": "code",
     "checksum": "ef467c73f896a2883c3e1bc51d35c11f",
     "grade": false,
     "grade_id": "cell-51ff89ef927d6018",
     "locked": false,
     "schema_version": 3,
     "solution": true,
     "task": false
    }
   },
   "outputs": [],
   "source": [
    "def boxplot():\n",
    "    '''Input : x_data and y_data are the lists containing the data points for x and y axis\n",
    "    base_color and median_color can be used to set colors in the graph.\n",
    "    xlabel and ylabel are the labels that should be given to the corresponding axes\n",
    "    title contains the title of the graph.\n",
    "    \n",
    "    Output : A boxplot with Open and Close attributes on the x-axis displayed\n",
    "    \n",
    "    x_data - a tuple of Open and Close values respectively. Open and Close should be stored as a python list.\n",
    "             Ex: x_data = (list(df['attr_1']), list(df['attr_2']))\n",
    "    xlabel, ylabel - A string value representing the axes labels\n",
    "    title - A string representing the title for the graph\n",
    "    '''\n",
    "    \n",
    "    df = pd.read_csv('./data/HistoricalQuotes.csv')\n",
    "        \n",
    "    # your code here\n",
    "    header = list(df.columns)\n",
    "    date_ = header[0]\n",
    "    close_ = header[1]\n",
    "    volume_ = header[2]\n",
    "    open_ = header[3]\n",
    "    high_ = header[4]\n",
    "    low_ = header[5]\n",
    "    \n",
    "    # x_data - a tuple of Open and Close values respectively. Open and Close should be stored as a python list.\n",
    "    x_data = (list(df[open_]), list(df[close_]))\n",
    "    \n",
    "    # xlabel, ylabel - A string value representing the axes labels\n",
    "    xlabel = open_\n",
    "    ylabel = close_\n",
    "    \n",
    "    # title - A string representing the title for the graph\n",
    "    title = \"Historical Quotes - Boxplot\"\n",
    "    \n",
    "    \n",
    "    return x_data,xlabel,ylabel,title"
   ]
  },
  {
   "cell_type": "code",
   "execution_count": 37,
   "metadata": {
    "deletable": false,
    "editable": false,
    "nbgrader": {
     "cell_type": "code",
     "checksum": "fdca2d2c76a46b748804df557feadf39",
     "grade": true,
     "grade_id": "cell-34f53d2a937e45f2",
     "locked": true,
     "points": 1,
     "schema_version": 3,
     "solution": false,
     "task": false
    }
   },
   "outputs": [
    {
     "data": {
      "text/plain": [
       "'\\nThis cell has hidden test cases that will run after you submit your assignment. \\nYou can troubleshoot by calling the function and checking return types.\\n'"
      ]
     },
     "execution_count": 37,
     "metadata": {},
     "output_type": "execute_result"
    }
   ],
   "source": [
    "'''\n",
    "This cell has hidden test cases that will run after you submit your assignment. \n",
    "You can troubleshoot by calling the function and checking return types.\n",
    "'''\n"
   ]
  },
  {
   "cell_type": "code",
   "execution_count": 67,
   "metadata": {
    "deletable": false,
    "nbgrader": {
     "cell_type": "code",
     "checksum": "6ab525c41e6e239d86036fcebe088341",
     "grade": false,
     "grade_id": "cell-6e477222af744e1e",
     "locked": false,
     "schema_version": 3,
     "solution": true,
     "task": false
    }
   },
   "outputs": [],
   "source": [
    "def histogram():\n",
    "    '''Input : data is the list containing the data points for histogram buckets\n",
    "    xlabel and ylabel are the labels that should be given to the corresponding axes\n",
    "    title contains the title of the graph\n",
    "    \n",
    "    Output : A histogram of the Volume attribute displayed\n",
    "    \n",
    "    data - A python list containing the data associated with the Volume attribute\n",
    "    x_label, y_label - A string representing the axes labels \n",
    "    '''\n",
    "\n",
    "    df = pd.read_csv('./data/HistoricalQuotes.csv')\n",
    "\n",
    "    data = []\n",
    "    \n",
    "    # your code here\n",
    "    header = list(df.columns)\n",
    "    date_ = header[0]\n",
    "    close_ = header[1]\n",
    "    volume_ = header[2]\n",
    "    open_ = header[3]\n",
    "    high_ = header[4]\n",
    "    low_ = header[5]\n",
    "    \n",
    "    # data - A python list containing the data associated with the Volume attribute\n",
    "    data = list(df[volume_])\n",
    "    \n",
    "    # xlabel, ylabel - A string value representing the axes labels\n",
    "    x_label = volume_\n",
    "    y_label = volume_\n",
    "    \n",
    "    return data, x_label, y_label"
   ]
  },
  {
   "cell_type": "code",
   "execution_count": 68,
   "metadata": {
    "deletable": false,
    "editable": false,
    "nbgrader": {
     "cell_type": "code",
     "checksum": "a4c6c8e00948adc5769275f48e7bd2d3",
     "grade": true,
     "grade_id": "cell-9719ed64b0c27717",
     "locked": true,
     "points": 1,
     "schema_version": 3,
     "solution": false,
     "task": false
    }
   },
   "outputs": [
    {
     "data": {
      "text/plain": [
       "'\\nThis cell has hidden test cases that will run after you submit your assignment. \\nYou can troubleshoot by calling the function and checking return types.\\n'"
      ]
     },
     "execution_count": 68,
     "metadata": {},
     "output_type": "execute_result"
    }
   ],
   "source": [
    "'''\n",
    "This cell has hidden test cases that will run after you submit your assignment. \n",
    "You can troubleshoot by calling the function and checking return types.\n",
    "'''\n"
   ]
  },
  {
   "cell_type": "code",
   "execution_count": 94,
   "metadata": {},
   "outputs": [],
   "source": [
    "def amzn_new_plot():\n",
    "    '''Define this function as you would seem fit to display the plot that interests you using\n",
    "    the same dataset. Define your function parameters and display the resulting plots'''\n",
    "    # your code here\n",
    "    \n",
    "    # Testing the temporal_graph() function\n",
    "    x_data,y_data,xlabel,ylabel,title = temporal_graph()\n",
    "    # to create the dataframe\n",
    "    sample_timeseries_data = {\n",
    "        'Date': x_data,\n",
    "        'High': y_data[0],\n",
    "        'Low': y_data[1]\n",
    "    }\n",
    "    dataframe = pd.DataFrame(\n",
    "      sample_timeseries_data,columns=[\n",
    "        'Date', 'High', 'Low'])\n",
    "    dataframe[\"Date\"] = dataframe[\"Date\"].astype(\"datetime64\")\n",
    "    # First Plot\n",
    "    plt.xlabel(xlabel)\n",
    "    plt.title(title)\n",
    "    plt.plot(dataframe[\"Date\"], dataframe[\"High\"])\n",
    "    # Second Plot\n",
    "    plt.ylabel(ylabel)\n",
    "    plt.title(title)\n",
    "    plt.plot(dataframe[\"Date\"], dataframe[\"Low\"])\n",
    "    "
   ]
  },
  {
   "cell_type": "code",
   "execution_count": 95,
   "metadata": {},
   "outputs": [
    {
     "data": {
      "text/plain": [
       "[<matplotlib.lines.Line2D at 0x7cb11406f0d0>]"
      ]
     },
     "execution_count": 95,
     "metadata": {},
     "output_type": "execute_result"
    },
    {
     "data": {
      "image/png": "[encoded data removed]",
      "text/plain": [
       "<Figure size 432x288 with 1 Axes>"
      ]
     },
     "metadata": {
      "needs_background": "light"
     },
     "output_type": "display_data"
    }
   ],
   "source": [
    "import matplotlib.pyplot as plt\n",
    "# Testing the temporal_graph() function\n",
    "x_data,y_data,xlabel,ylabel,title = temporal_graph()\n",
    "# to create the dataframe\n",
    "sample_timeseries_data = {\n",
    "    'Date': x_data,\n",
    "    'High': y_data[0],\n",
    "    'Low': y_data[1]\n",
    "}\n",
    "dataframe = pd.DataFrame(\n",
    "  sample_timeseries_data,columns=[\n",
    "    'Date', 'High', 'Low'])\n",
    "dataframe[\"Date\"] = dataframe[\"Date\"].astype(\"datetime64\")\n",
    "# First Plot\n",
    "plt.xlabel(xlabel)\n",
    "plt.title(title)\n",
    "plt.plot(dataframe[\"Date\"], dataframe[\"High\"])\n",
    "# Second Plot\n",
    "plt.ylabel(ylabel)\n",
    "plt.title(title)\n",
    "plt.plot(dataframe[\"Date\"], dataframe[\"Low\"])\n"
   ]
  },
  {
   "cell_type": "code",
   "execution_count": 96,
   "metadata": {},
   "outputs": [
    {
     "data": {
      "text/plain": [
       "[<matplotlib.lines.Line2D at 0x7cb113f8fc10>]"
      ]
     },
     "execution_count": 96,
     "metadata": {},
     "output_type": "execute_result"
    },
    {
     "data": {
      "image/png": "[encoded data removed]",
      "text/plain": [
       "<Figure size 432x288 with 1 Axes>"
      ]
     },
     "metadata": {
      "needs_background": "light"
     },
     "output_type": "display_data"
    }
   ],
   "source": [
    "# Testing the boxplot() function\n",
    "x_data,xlabel,ylabel,title = boxplot()\n",
    "# to create the dataframe\n",
    "sample_timeseries_data = {\n",
    "    'Open': x_data[0],\n",
    "    'Close': x_data[1]\n",
    "}\n",
    "dataframe = pd.DataFrame(\n",
    "  sample_timeseries_data,columns=[\n",
    "    'Open', 'Close'])\n",
    "\n",
    "plt.xlabel(xlabel)\n",
    "plt.ylabel(ylabel)\n",
    "plt.title(title)\n",
    "plt.plot(dataframe[\"Open\"], dataframe[\"Close\"])"
   ]
  },
  {
   "cell_type": "code",
   "execution_count": 97,
   "metadata": {},
   "outputs": [],
   "source": [
    "data, x_label, y_label = histogram()"
   ]
  },
  {
   "cell_type": "code",
   "execution_count": 98,
   "metadata": {},
   "outputs": [
    {
     "data": {
      "image/png": "[encoded data removed]",
      "text/plain": [
       "<Figure size 432x288 with 1 Axes>"
      ]
     },
     "metadata": {
      "needs_background": "light"
     },
     "output_type": "display_data"
    }
   ],
   "source": [
    "amzn_new_plot()"
   ]
  },
  {
   "cell_type": "code",
   "execution_count": null,
   "metadata": {},
   "outputs": [],
   "source": []
  },
  {
   "cell_type": "code",
   "execution_count": null,
   "metadata": {},
   "outputs": [],
   "source": []
  },
  {
   "cell_type": "code",
   "execution_count": null,
   "metadata": {},
   "outputs": [],
   "source": []
  }
 ],
 "metadata": {
  "hide_input": false,
  "kernelspec": {
   "display_name": "Python 3",
   "language": "python",
   "name": "python3"
  },
  "language_info": {
   "codemirror_mode": {
    "name": "ipython",
    "version": 3
   },
   "file_extension": ".py",
   "mimetype": "text/x-python",
   "name": "python",
   "nbconvert_exporter": "python",
   "pygments_lexer": "ipython3",
   "version": "3.7.6"
  },
  "latex_envs": {
   "LaTeX_envs_menu_present": true,
   "autoclose": false,
   "autocomplete": true,
   "bibliofile": "biblio.bib",
   "cite_by": "apalike",
   "current_citInitial": 1,
   "eqLabelWithNumbers": true,
   "eqNumInitial": 1,
   "hotkeys": {
    "equation": "Ctrl-E",
    "itemize": "Ctrl-I"
   },
   "labels_anchors": false,
   "latex_user_defs": false,
   "report_style_numbering": false,
   "user_envs_cfg": false
  },
  "nbTranslate": {
   "displayLangs": [
    "*"
   ],
   "hotkey": "alt-t",
   "langInMainMenu": true,
   "sourceLang": "en",
   "targetLang": "fr",
   "useGoogleTranslate": true
  },
  "toc": {
   "base_numbering": 1,
   "nav_menu": {},
   "number_sections": true,
   "sideBar": true,
   "skip_h1_title": false,
   "title_cell": "Table of Contents",
   "title_sidebar": "Contents",
   "toc_cell": false,
   "toc_position": {},
   "toc_section_display": true,
   "toc_window_display": false
  },
  "varInspector": {
   "cols": {
    "lenName": 16,
    "lenType": 16,
    "lenVar": 40
   },
   "kernels_config": {
    "python": {
     "delete_cmd_postfix": "",
     "delete_cmd_prefix": "del ",
     "library": "var_list.py",
     "varRefreshCmd": "print(var_dic_list())"
    },
    "r": {
     "delete_cmd_postfix": ") ",
     "delete_cmd_prefix": "rm(",
     "library": "var_list.r",
     "varRefreshCmd": "cat(var_dic_list()) "
    }
   },
   "types_to_exclude": [
    "module",
    "function",
    "builtin_function_or_method",
    "instance",
    "_Feature"
   ],
   "window_display": false
  }
 },
 "nbformat": 4,
 "nbformat_minor": 2
}
